{
 "cells": [
  {
   "cell_type": "markdown",
   "id": "e49b4044-1ca4-4fa6-b5a8-1f69fdf5a5a1",
   "metadata": {},
   "source": [
    "# Quantum Key Distribution (QKD)"
   ]
  },
  {
   "cell_type": "code",
   "execution_count": 25,
   "id": "7f9225d6-1e55-45d2-aac7-644eec9252be",
   "metadata": {},
   "outputs": [
    {
     "name": "stdout",
     "output_type": "stream",
     "text": [
      "Alice's bits:      [1, 0, 1, 0, 1, 1, 0, 1, 1, 1]\n",
      "Alice's bases:     [1, 0, 1, 1, 1, 1, 1, 1, 1, 1]\n",
      "Bob's bases:       [1, 0, 0, 1, 1, 0, 0, 0, 1, 0]\n",
      "Bob's results:     [0, 0, 0, 0, 0, 0, 1, 0, 0, 0]\n",
      "Matching indices:  [0, 1, 3, 4, 8]\n",
      "Shared key:        [0, 0, 0, 0, 0]\n"
     ]
    }
   ],
   "source": [
    "from qiskit import QuantumCircuit\n",
    "from qiskit_aer import Aer\n",
    "import random\n",
    "\n",
    "# Function to generate random bits\n",
    "def generate_random_bits(size):\n",
    "    return [random.choice([0, 1]) for _ in range(size)]\n",
    "\n",
    "# Function to generate random bases (0 = Z basis, 1 = X basis)\n",
    "def generate_random_bases(size):\n",
    "    return [random.choice([0, 1]) for _ in range(size)]\n",
    "\n",
    "# Function to encode bits into qubits\n",
    "def encode_bits(bits, bases):\n",
    "    circuits = []\n",
    "    for bit, basis in zip(bits, bases):\n",
    "        qc = QuantumCircuit(1, 1)\n",
    "        if basis == 0:  # Z basis\n",
    "            if bit == 1:\n",
    "                qc.x(0)  # Apply X gate to flip |0⟩ to |1⟩\n",
    "        else:  # X basis\n",
    "            qc.h(0)  # Apply Hadamard to create superposition\n",
    "            if bit == 1:\n",
    "                qc.x(0)\n",
    "        circuits.append(qc)\n",
    "    return circuits\n",
    "    \n",
    "# Main BB84 Protocol\n",
    "def bb84_protocol(size):\n",
    "    # Step 1: Alice generates random bits and bases\n",
    "    alice_bits = generate_random_bits(size)\n",
    "    alice_bases = generate_random_bases(size)\n",
    "\n",
    "    # Step 2: Alice encodes her bits into qubits\n",
    "    alice_circuits = encode_bits(alice_bits, alice_bases)\n",
    "\n",
    "    # Step 3: Bob generates random bases\n",
    "    bob_bases = generate_random_bases(size)\n",
    "\n",
    "    # Step 4: Bob measures the qubits\n",
    "    bob_results = measure_qubits(alice_circuits, bob_bases)\n",
    "\n",
    "    # Step 5: Alice and Bob compare their bases\n",
    "    matching_bases = [i for i in range(size) if alice_bases[i] == bob_bases[i]]\n",
    "    key = [bob_results[i] for i in matching_bases]\n",
    "\n",
    "    print(\"Alice's bits:     \", alice_bits)\n",
    "    print(\"Alice's bases:    \", alice_bases)\n",
    "    print(\"Bob's bases:      \", bob_bases)\n",
    "    print(\"Bob's results:    \", bob_results)\n",
    "    print(\"Matching indices: \", matching_bases)\n",
    "    print(\"Shared key:       \", key)\n",
    "\n",
    "# Run the BB84 protocol\n",
    "bb84_protocol(10)  # Generate a 10-bit key"
   ]
  }
 ],
 "metadata": {
  "kernelspec": {
   "display_name": "Python [conda env:base] *",
   "language": "python",
   "name": "conda-base-py"
  },
  "language_info": {
   "codemirror_mode": {
    "name": "ipython",
    "version": 3
   },
   "file_extension": ".py",
   "mimetype": "text/x-python",
   "name": "python",
   "nbconvert_exporter": "python",
   "pygments_lexer": "ipython3",
   "version": "3.12.7"
  }
 },
 "nbformat": 4,
 "nbformat_minor": 5
}
